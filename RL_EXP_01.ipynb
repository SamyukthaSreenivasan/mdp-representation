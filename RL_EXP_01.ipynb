{
  "nbformat": 4,
  "nbformat_minor": 0,
  "metadata": {
    "colab": {
      "provenance": []
    },
    "kernelspec": {
      "name": "python3",
      "display_name": "Python 3"
    },
    "language_info": {
      "name": "python"
    }
  },
  "cells": [
    {
      "cell_type": "code",
      "execution_count": 1,
      "metadata": {
        "id": "9_R7HQu6qlcj"
      },
      "outputs": [],
      "source": [
        "\n",
        "p = {\n",
        "    0: {  #GROUND FLOOR\n",
        "        0:[(0.9,0,-1.0,False),(0.1,1,-1.0,False)],\n",
        "        1:[(0.9,1,-1.0,False),(0.1,0,-1.0,False)]\n",
        "    },\n",
        "    1: { #FIRST FLOOR\n",
        "        0:[(0.9,0,-1.0,False),(0.1,1,-1.0,False)],\n",
        "        1:[(0.9,2,+10.0,True),(0.1,1,-1.0,False)]\n",
        "    },\n",
        "    2: { #SECOND FLOOR\n",
        "        0:[(0.9,1,-1.0,False),(0.1,2,+10.0,True)],\n",
        "        1:[(0.9,2,+10.0,True),(0.1,1,-1.0,False)]\n",
        "    }\n",
        "}"
      ]
    },
    {
      "cell_type": "code",
      "source": [
        "print('SAMYUKTHA S 212222240089')\n",
        "p\n"
      ],
      "metadata": {
        "colab": {
          "base_uri": "https://localhost:8080/"
        },
        "id": "YJk9Dp-Kqztu",
        "outputId": "c35d1b33-c71a-48be-c777-bffd51576881"
      },
      "execution_count": 2,
      "outputs": [
        {
          "output_type": "stream",
          "name": "stdout",
          "text": [
            "SAMYUKTHA S 212222240089\n"
          ]
        },
        {
          "output_type": "execute_result",
          "data": {
            "text/plain": [
              "{0: {0: [(0.9, 0, -1.0, False), (0.1, 1, -1.0, False)],\n",
              "  1: [(0.9, 1, -1.0, False), (0.1, 0, -1.0, False)]},\n",
              " 1: {0: [(0.9, 0, -1.0, False), (0.1, 1, -1.0, False)],\n",
              "  1: [(0.9, 2, 10.0, True), (0.1, 1, -1.0, False)]},\n",
              " 2: {0: [(0.9, 1, -1.0, False), (0.1, 2, 10.0, True)],\n",
              "  1: [(0.9, 2, 10.0, True), (0.1, 1, -1.0, False)]}}"
            ]
          },
          "metadata": {},
          "execution_count": 2
        }
      ]
    }
  ]
}